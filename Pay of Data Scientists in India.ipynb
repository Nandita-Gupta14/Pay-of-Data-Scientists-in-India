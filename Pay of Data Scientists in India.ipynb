{
 "cells": [
  {
   "cell_type": "code",
   "execution_count": 1,
   "metadata": {},
   "outputs": [],
   "source": [
    "import pandas as pd\n",
    "import numpy as np\n",
    "import matplotlib.pyplot as plt\n",
    "import seaborn as sns\n",
    "import re\n",
    "import nltk\n",
    "import warnings\n",
    "warnings.filterwarnings('ignore')\n",
    "from scipy.sparse import hstack, csr_matrix"
   ]
  },
  {
   "cell_type": "code",
   "execution_count": 2,
   "metadata": {},
   "outputs": [],
   "source": [
    "train = pd.read_csv('Final_Train_Dataset.csv')\n",
    "test = pd.read_csv('Final_Test_Dataset.csv')"
   ]
  },
  {
   "cell_type": "code",
   "execution_count": 3,
   "metadata": {},
   "outputs": [
    {
     "data": {
      "text/html": [
       "<div>\n",
       "<style scoped>\n",
       "    .dataframe tbody tr th:only-of-type {\n",
       "        vertical-align: middle;\n",
       "    }\n",
       "\n",
       "    .dataframe tbody tr th {\n",
       "        vertical-align: top;\n",
       "    }\n",
       "\n",
       "    .dataframe thead th {\n",
       "        text-align: right;\n",
       "    }\n",
       "</style>\n",
       "<table border=\"1\" class=\"dataframe\">\n",
       "  <thead>\n",
       "    <tr style=\"text-align: right;\">\n",
       "      <th></th>\n",
       "      <th>Unnamed: 0</th>\n",
       "      <th>experience</th>\n",
       "      <th>job_description</th>\n",
       "      <th>job_desig</th>\n",
       "      <th>job_type</th>\n",
       "      <th>key_skills</th>\n",
       "      <th>location</th>\n",
       "      <th>salary</th>\n",
       "      <th>company_name_encoded</th>\n",
       "    </tr>\n",
       "  </thead>\n",
       "  <tbody>\n",
       "    <tr>\n",
       "      <th>0</th>\n",
       "      <td>0</td>\n",
       "      <td>5-7 yrs</td>\n",
       "      <td>Exp: Minimum 5 years;Good understanding of IOC...</td>\n",
       "      <td>Senior Exploit and Vulnerability Researcher</td>\n",
       "      <td>NaN</td>\n",
       "      <td>team skills, communication skills, analytical ...</td>\n",
       "      <td>Delhi NCR(Vikas Puri)</td>\n",
       "      <td>6to10</td>\n",
       "      <td>3687</td>\n",
       "    </tr>\n",
       "    <tr>\n",
       "      <th>1</th>\n",
       "      <td>1</td>\n",
       "      <td>10-17 yrs</td>\n",
       "      <td>He should have handled a team of atleast 5-6 d...</td>\n",
       "      <td>Head SCM</td>\n",
       "      <td>NaN</td>\n",
       "      <td>ppc, logistics, inventory management, supply c...</td>\n",
       "      <td>Sonepat</td>\n",
       "      <td>10to15</td>\n",
       "      <td>458</td>\n",
       "    </tr>\n",
       "    <tr>\n",
       "      <th>2</th>\n",
       "      <td>2</td>\n",
       "      <td>5-9 yrs</td>\n",
       "      <td>Must be an effective communicator (written &amp; s...</td>\n",
       "      <td>Deputy Manager - Talent Management &amp; Leadershi...</td>\n",
       "      <td>Analytics</td>\n",
       "      <td>HR Analytics, Employee Engagement, Training, S...</td>\n",
       "      <td>Delhi NCR</td>\n",
       "      <td>15to25</td>\n",
       "      <td>4195</td>\n",
       "    </tr>\n",
       "    <tr>\n",
       "      <th>3</th>\n",
       "      <td>3</td>\n",
       "      <td>7-10 yrs</td>\n",
       "      <td>7  -  10 years of overall experience in data e...</td>\n",
       "      <td>Associate Manager Data Engineering</td>\n",
       "      <td>Analytics</td>\n",
       "      <td>SQL, Javascript, Automation, Python, Ruby, Ana...</td>\n",
       "      <td>Bengaluru</td>\n",
       "      <td>10to15</td>\n",
       "      <td>313</td>\n",
       "    </tr>\n",
       "    <tr>\n",
       "      <th>4</th>\n",
       "      <td>4</td>\n",
       "      <td>1-3 yrs</td>\n",
       "      <td>Chartered Accountancy degree or MBA in Finance...</td>\n",
       "      <td>TS- GSA- Senior Analyst</td>\n",
       "      <td>NaN</td>\n",
       "      <td>accounting, finance, cash flow, financial plan...</td>\n",
       "      <td>Gurgaon</td>\n",
       "      <td>3to6</td>\n",
       "      <td>1305</td>\n",
       "    </tr>\n",
       "  </tbody>\n",
       "</table>\n",
       "</div>"
      ],
      "text/plain": [
       "   Unnamed: 0 experience                                    job_description  \\\n",
       "0           0    5-7 yrs  Exp: Minimum 5 years;Good understanding of IOC...   \n",
       "1           1  10-17 yrs  He should have handled a team of atleast 5-6 d...   \n",
       "2           2    5-9 yrs  Must be an effective communicator (written & s...   \n",
       "3           3   7-10 yrs  7  -  10 years of overall experience in data e...   \n",
       "4           4    1-3 yrs  Chartered Accountancy degree or MBA in Finance...   \n",
       "\n",
       "                                           job_desig   job_type  \\\n",
       "0        Senior Exploit and Vulnerability Researcher        NaN   \n",
       "1                                           Head SCM        NaN   \n",
       "2  Deputy Manager - Talent Management & Leadershi...  Analytics   \n",
       "3                 Associate Manager Data Engineering  Analytics   \n",
       "4                            TS- GSA- Senior Analyst        NaN   \n",
       "\n",
       "                                          key_skills               location  \\\n",
       "0  team skills, communication skills, analytical ...  Delhi NCR(Vikas Puri)   \n",
       "1  ppc, logistics, inventory management, supply c...                Sonepat   \n",
       "2  HR Analytics, Employee Engagement, Training, S...              Delhi NCR   \n",
       "3  SQL, Javascript, Automation, Python, Ruby, Ana...              Bengaluru   \n",
       "4  accounting, finance, cash flow, financial plan...                Gurgaon   \n",
       "\n",
       "   salary  company_name_encoded  \n",
       "0   6to10                  3687  \n",
       "1  10to15                   458  \n",
       "2  15to25                  4195  \n",
       "3  10to15                   313  \n",
       "4    3to6                  1305  "
      ]
     },
     "execution_count": 3,
     "metadata": {},
     "output_type": "execute_result"
    }
   ],
   "source": [
    "train.head()"
   ]
  },
  {
   "cell_type": "code",
   "execution_count": 4,
   "metadata": {},
   "outputs": [
    {
     "name": "stdout",
     "output_type": "stream",
     "text": [
      "<class 'pandas.core.frame.DataFrame'>\n",
      "RangeIndex: 19802 entries, 0 to 19801\n",
      "Data columns (total 9 columns):\n",
      " #   Column                Non-Null Count  Dtype \n",
      "---  ------                --------------  ----- \n",
      " 0   Unnamed: 0            19802 non-null  int64 \n",
      " 1   experience            19802 non-null  object\n",
      " 2   job_description       15384 non-null  object\n",
      " 3   job_desig             19802 non-null  object\n",
      " 4   job_type              4797 non-null   object\n",
      " 5   key_skills            19801 non-null  object\n",
      " 6   location              19802 non-null  object\n",
      " 7   salary                19802 non-null  object\n",
      " 8   company_name_encoded  19802 non-null  int64 \n",
      "dtypes: int64(2), object(7)\n",
      "memory usage: 1.4+ MB\n"
     ]
    }
   ],
   "source": [
    "train.info()"
   ]
  },
  {
   "cell_type": "code",
   "execution_count": 5,
   "metadata": {},
   "outputs": [
    {
     "data": {
      "text/html": [
       "<div>\n",
       "<style scoped>\n",
       "    .dataframe tbody tr th:only-of-type {\n",
       "        vertical-align: middle;\n",
       "    }\n",
       "\n",
       "    .dataframe tbody tr th {\n",
       "        vertical-align: top;\n",
       "    }\n",
       "\n",
       "    .dataframe thead th {\n",
       "        text-align: right;\n",
       "    }\n",
       "</style>\n",
       "<table border=\"1\" class=\"dataframe\">\n",
       "  <thead>\n",
       "    <tr style=\"text-align: right;\">\n",
       "      <th></th>\n",
       "      <th>experience</th>\n",
       "      <th>job_description</th>\n",
       "      <th>job_desig</th>\n",
       "      <th>job_type</th>\n",
       "      <th>key_skills</th>\n",
       "      <th>location</th>\n",
       "      <th>company_name_encoded</th>\n",
       "    </tr>\n",
       "  </thead>\n",
       "  <tbody>\n",
       "    <tr>\n",
       "      <th>0</th>\n",
       "      <td>7-12 yrs</td>\n",
       "      <td>Professional experience in Java/J2EE based ser...</td>\n",
       "      <td>IT Technology Senior Consultant/java/ J2ee/ Se...</td>\n",
       "      <td>NaN</td>\n",
       "      <td>Java, J2Ee, Tomcat, JBoss, Weblogic, Oracle, E...</td>\n",
       "      <td>Bengaluru</td>\n",
       "      <td>2066</td>\n",
       "    </tr>\n",
       "    <tr>\n",
       "      <th>1</th>\n",
       "      <td>0-5 yrs</td>\n",
       "      <td>We are looking for 20+ Fresher/Experienced Can...</td>\n",
       "      <td>Medical Billing Process | International KPO | ...</td>\n",
       "      <td>NaN</td>\n",
       "      <td>Medical Billing, Insurance Processing</td>\n",
       "      <td>Ahmedabad(Sola)</td>\n",
       "      <td>2629</td>\n",
       "    </tr>\n",
       "    <tr>\n",
       "      <th>2</th>\n",
       "      <td>3-6 yrs</td>\n",
       "      <td>Should understand overall integration framewor...</td>\n",
       "      <td>Oracle Sales Cloud Functional Consultant</td>\n",
       "      <td>NaN</td>\n",
       "      <td>Oracle Sales, Functional Consultancy, Troubles...</td>\n",
       "      <td>Bengaluru</td>\n",
       "      <td>2448</td>\n",
       "    </tr>\n",
       "    <tr>\n",
       "      <th>3</th>\n",
       "      <td>0-3 yrs</td>\n",
       "      <td>NaN</td>\n",
       "      <td>Looking For Freshers WHO WANT To Work WITH US</td>\n",
       "      <td>NaN</td>\n",
       "      <td>offline, online, internet, part time, home bas...</td>\n",
       "      <td>Delhi NCR, Chennai, Hyderabad, Gurgaon, Luckno...</td>\n",
       "      <td>2711</td>\n",
       "    </tr>\n",
       "    <tr>\n",
       "      <th>4</th>\n",
       "      <td>0-5 yrs</td>\n",
       "      <td>NaN</td>\n",
       "      <td>Process Associate / Sr Process Associate / Tec...</td>\n",
       "      <td>NaN</td>\n",
       "      <td>voice support, analytical skills, Process asso...</td>\n",
       "      <td>Hyderabad</td>\n",
       "      <td>40</td>\n",
       "    </tr>\n",
       "  </tbody>\n",
       "</table>\n",
       "</div>"
      ],
      "text/plain": [
       "  experience                                    job_description  \\\n",
       "0   7-12 yrs  Professional experience in Java/J2EE based ser...   \n",
       "1    0-5 yrs  We are looking for 20+ Fresher/Experienced Can...   \n",
       "2    3-6 yrs  Should understand overall integration framewor...   \n",
       "3    0-3 yrs                                                NaN   \n",
       "4    0-5 yrs                                                NaN   \n",
       "\n",
       "                                           job_desig job_type  \\\n",
       "0  IT Technology Senior Consultant/java/ J2ee/ Se...      NaN   \n",
       "1  Medical Billing Process | International KPO | ...      NaN   \n",
       "2           Oracle Sales Cloud Functional Consultant      NaN   \n",
       "3      Looking For Freshers WHO WANT To Work WITH US      NaN   \n",
       "4  Process Associate / Sr Process Associate / Tec...      NaN   \n",
       "\n",
       "                                          key_skills  \\\n",
       "0  Java, J2Ee, Tomcat, JBoss, Weblogic, Oracle, E...   \n",
       "1              Medical Billing, Insurance Processing   \n",
       "2  Oracle Sales, Functional Consultancy, Troubles...   \n",
       "3  offline, online, internet, part time, home bas...   \n",
       "4  voice support, analytical skills, Process asso...   \n",
       "\n",
       "                                            location  company_name_encoded  \n",
       "0                                          Bengaluru                  2066  \n",
       "1                                    Ahmedabad(Sola)                  2629  \n",
       "2                                          Bengaluru                  2448  \n",
       "3  Delhi NCR, Chennai, Hyderabad, Gurgaon, Luckno...                  2711  \n",
       "4                                          Hyderabad                    40  "
      ]
     },
     "execution_count": 5,
     "metadata": {},
     "output_type": "execute_result"
    }
   ],
   "source": [
    "test.head()"
   ]
  },
  {
   "cell_type": "code",
   "execution_count": 10,
   "metadata": {},
   "outputs": [
    {
     "name": "stdout",
     "output_type": "stream",
     "text": [
      "<class 'pandas.core.frame.DataFrame'>\n",
      "RangeIndex: 6601 entries, 0 to 6600\n",
      "Data columns (total 7 columns):\n",
      " #   Column                Non-Null Count  Dtype \n",
      "---  ------                --------------  ----- \n",
      " 0   experience            6601 non-null   object\n",
      " 1   job_description       5079 non-null   object\n",
      " 2   job_desig             6601 non-null   object\n",
      " 3   job_type              1637 non-null   object\n",
      " 4   key_skills            6601 non-null   object\n",
      " 5   location              6601 non-null   object\n",
      " 6   company_name_encoded  6601 non-null   int64 \n",
      "dtypes: int64(1), object(6)\n",
      "memory usage: 361.1+ KB\n"
     ]
    }
   ],
   "source": [
    "test.info()"
   ]
  },
  {
   "cell_type": "code",
   "execution_count": 11,
   "metadata": {},
   "outputs": [],
   "source": [
    "train=train.dropna(subset=['key_skills'])"
   ]
  },
  {
   "cell_type": "code",
   "execution_count": 12,
   "metadata": {},
   "outputs": [],
   "source": [
    "df_train=train[['key_skills', 'job_desig', 'job_description', 'location', 'job_type', 'experience','salary']]\n",
    "df_test = test[['key_skills', 'job_desig', 'job_description', 'job_type', 'experience', 'location']]"
   ]
  },
  {
   "cell_type": "code",
   "execution_count": 19,
   "metadata": {},
   "outputs": [],
   "source": [
    "def clean_skills(skl):\n",
    "    skills=str(skl).lower()\n",
    "    skills=re.sub(r'\\...','',skills)\n",
    "    skills = re.sub(r',','', skills)\n",
    "    skills = re.sub(r'\\s+', ' ', skills)\n",
    "    return skills\n",
    "df_train['skills_cleaned'] = df_train['key_skills'].apply(clean_skills)\n",
    "df_test['skills_cleaned'] = df_test['key_skills'].apply(clean_skills)"
   ]
  },
  {
   "cell_type": "code",
   "execution_count": 21,
   "metadata": {},
   "outputs": [],
   "source": [
    "def clean_job_desig(desig):\n",
    "    job_desig = desig.lower()\n",
    "    job_desig = re.sub(r'[^a-z]', ' ', job_desig)\n",
    "    job_desig = re.sub(r'\\s+', ' ', job_desig)\n",
    "    return job_desig\n",
    "\n",
    "df_train['desig_cleaned'] = df_train['job_desig'].apply(clean_job_desig)\n",
    "df_test['desig_cleaned'] = df_test['job_desig'].apply(clean_job_desig)"
   ]
  },
  {
   "cell_type": "code",
   "execution_count": 22,
   "metadata": {},
   "outputs": [],
   "source": [
    "\n",
    "train['job_description'].fillna('missing', inplace=True)\n",
    "test['job_description'].fillna('missing', inplace=True)\n",
    "\n",
    "def clean_job_desc(job):\n",
    "    job_desc = str(job).lower()\n",
    "    job_desc = re.sub(r'[^a-z]', ' ', job_desc)\n",
    "    job_desc = re.sub(r'\\s+', ' ', job_desc)\n",
    "    return job_desc\n",
    "\n",
    "df_train['job_desc_cleaned'] = df_train['job_description'].apply(clean_job_desc)\n",
    "df_test['job_desc_cleaned'] = df_test['job_description'].apply(clean_job_desc)"
   ]
  },
  {
   "cell_type": "code",
   "execution_count": 23,
   "metadata": {},
   "outputs": [],
   "source": [
    "def clean_location(loc):\n",
    "    location = loc.lower()\n",
    "    location = re.sub(r'[^a-z]', ' ', location)\n",
    "    location = re.sub(r'\\s+', ' ', location)\n",
    "    return location\n",
    "\n",
    "df_train['loc_cleaned'] = df_train['location'].apply(clean_location)\n",
    "df_test['loc_cleaned'] = df_test['location'].apply(clean_location)"
   ]
  },
  {
   "cell_type": "code",
   "execution_count": 24,
   "metadata": {},
   "outputs": [],
   "source": [
    "train['job_type'].fillna('missingjobtype', inplace=True)\n",
    "train['job_type'].replace('Analytics', 'analytics', inplace=True)\n",
    "train['job_type'].replace('Analytic', 'analytics', inplace=True)\n",
    "train['job_type'].replace('ANALYTICS', 'analytics', inplace=True)\n",
    "train['job_type'].replace('analytic', 'analytics', inplace=True)\n",
    "\n",
    "test['job_type'].fillna('missingjobtype', inplace=True)\n",
    "test['job_type'].replace('Analytics', 'analytics', inplace=True)\n",
    "test['job_type'].replace('Analytic', 'analytics', inplace=True)\n",
    "test['job_type'].replace('ANALYTICS', 'analytics', inplace=True)\n",
    "test['job_type'].replace('analytic', 'analytics', inplace=True)\n",
    "\n",
    "df_train['job_type_cleaned'] = train['job_type'] \n",
    "df_test['job_type_cleaned'] = test['job_type']"
   ]
  },
  {
   "cell_type": "code",
   "execution_count": 25,
   "metadata": {},
   "outputs": [],
   "source": [
    "def min_exp(exp):\n",
    "    val = re.sub(r'\\-',' ', exp)\n",
    "    val = val.split(' ')\n",
    "    val = int(val[0])\n",
    "    return val\n",
    "\n",
    "def max_exp(exp):\n",
    "    val = re.sub(r'\\-',' ', exp)\n",
    "    val = val.split(' ')\n",
    "    val = int(val[1])\n",
    "    return val\n",
    "\n",
    "df_train['min_exp'] = df_train['experience'].apply(min_exp)\n",
    "df_train['max_exp'] = df_train['experience'].apply(max_exp)\n",
    "\n",
    "df_test['min_exp'] = df_test['experience'].apply(min_exp)\n",
    "df_test['max_exp'] = df_test['experience'].apply(max_exp)"
   ]
  },
  {
   "cell_type": "code",
   "execution_count": 26,
   "metadata": {},
   "outputs": [
    {
     "data": {
      "text/html": [
       "<div>\n",
       "<style scoped>\n",
       "    .dataframe tbody tr th:only-of-type {\n",
       "        vertical-align: middle;\n",
       "    }\n",
       "\n",
       "    .dataframe tbody tr th {\n",
       "        vertical-align: top;\n",
       "    }\n",
       "\n",
       "    .dataframe thead th {\n",
       "        text-align: right;\n",
       "    }\n",
       "</style>\n",
       "<table border=\"1\" class=\"dataframe\">\n",
       "  <thead>\n",
       "    <tr style=\"text-align: right;\">\n",
       "      <th></th>\n",
       "      <th>key_skills</th>\n",
       "      <th>job_desig</th>\n",
       "      <th>job_description</th>\n",
       "      <th>location</th>\n",
       "      <th>job_type</th>\n",
       "      <th>experience</th>\n",
       "      <th>salary</th>\n",
       "      <th>skills_cleaned</th>\n",
       "      <th>desig_cleaned</th>\n",
       "      <th>job_desc_cleaned</th>\n",
       "      <th>loc_cleaned</th>\n",
       "      <th>job_type_cleaned</th>\n",
       "      <th>min_exp</th>\n",
       "      <th>max_exp</th>\n",
       "    </tr>\n",
       "  </thead>\n",
       "  <tbody>\n",
       "    <tr>\n",
       "      <th>0</th>\n",
       "      <td>team skills, communication skills, analytical ...</td>\n",
       "      <td>Senior Exploit and Vulnerability Researcher</td>\n",
       "      <td>Exp: Minimum 5 years;Good understanding of IOC...</td>\n",
       "      <td>Delhi NCR(Vikas Puri)</td>\n",
       "      <td>NaN</td>\n",
       "      <td>5-7 yrs</td>\n",
       "      <td>6to10</td>\n",
       "      <td>team skills communication skills analytical sk...</td>\n",
       "      <td>senior exploit and vulnerability researcher</td>\n",
       "      <td>exp minimum years good understanding of ioc ru...</td>\n",
       "      <td>delhi ncr vikas puri</td>\n",
       "      <td>missingjobtype</td>\n",
       "      <td>5</td>\n",
       "      <td>7</td>\n",
       "    </tr>\n",
       "    <tr>\n",
       "      <th>1</th>\n",
       "      <td>ppc, logistics, inventory management, supply c...</td>\n",
       "      <td>Head SCM</td>\n",
       "      <td>He should have handled a team of atleast 5-6 d...</td>\n",
       "      <td>Sonepat</td>\n",
       "      <td>NaN</td>\n",
       "      <td>10-17 yrs</td>\n",
       "      <td>10to15</td>\n",
       "      <td>ppc logistics inventory management supply chai...</td>\n",
       "      <td>head scm</td>\n",
       "      <td>he should have handled a team of atleast direc...</td>\n",
       "      <td>sonepat</td>\n",
       "      <td>missingjobtype</td>\n",
       "      <td>10</td>\n",
       "      <td>17</td>\n",
       "    </tr>\n",
       "    <tr>\n",
       "      <th>2</th>\n",
       "      <td>HR Analytics, Employee Engagement, Training, S...</td>\n",
       "      <td>Deputy Manager - Talent Management &amp; Leadershi...</td>\n",
       "      <td>Must be an effective communicator (written &amp; s...</td>\n",
       "      <td>Delhi NCR</td>\n",
       "      <td>Analytics</td>\n",
       "      <td>5-9 yrs</td>\n",
       "      <td>15to25</td>\n",
       "      <td>hr analytics employee engagement training succ...</td>\n",
       "      <td>deputy manager talent management leadership de...</td>\n",
       "      <td>must be an effective communicator written spok...</td>\n",
       "      <td>delhi ncr</td>\n",
       "      <td>analytics</td>\n",
       "      <td>5</td>\n",
       "      <td>9</td>\n",
       "    </tr>\n",
       "    <tr>\n",
       "      <th>3</th>\n",
       "      <td>SQL, Javascript, Automation, Python, Ruby, Ana...</td>\n",
       "      <td>Associate Manager Data Engineering</td>\n",
       "      <td>7  -  10 years of overall experience in data e...</td>\n",
       "      <td>Bengaluru</td>\n",
       "      <td>Analytics</td>\n",
       "      <td>7-10 yrs</td>\n",
       "      <td>10to15</td>\n",
       "      <td>sql javascript automation python ruby analytic...</td>\n",
       "      <td>associate manager data engineering</td>\n",
       "      <td>years of overall experience in data engineeri...</td>\n",
       "      <td>bengaluru</td>\n",
       "      <td>analytics</td>\n",
       "      <td>7</td>\n",
       "      <td>10</td>\n",
       "    </tr>\n",
       "    <tr>\n",
       "      <th>4</th>\n",
       "      <td>accounting, finance, cash flow, financial plan...</td>\n",
       "      <td>TS- GSA- Senior Analyst</td>\n",
       "      <td>Chartered Accountancy degree or MBA in Finance...</td>\n",
       "      <td>Gurgaon</td>\n",
       "      <td>NaN</td>\n",
       "      <td>1-3 yrs</td>\n",
       "      <td>3to6</td>\n",
       "      <td>accounting finance cash flow financial plannin...</td>\n",
       "      <td>ts gsa senior analyst</td>\n",
       "      <td>chartered accountancy degree or mba in finance...</td>\n",
       "      <td>gurgaon</td>\n",
       "      <td>missingjobtype</td>\n",
       "      <td>1</td>\n",
       "      <td>3</td>\n",
       "    </tr>\n",
       "  </tbody>\n",
       "</table>\n",
       "</div>"
      ],
      "text/plain": [
       "                                          key_skills  \\\n",
       "0  team skills, communication skills, analytical ...   \n",
       "1  ppc, logistics, inventory management, supply c...   \n",
       "2  HR Analytics, Employee Engagement, Training, S...   \n",
       "3  SQL, Javascript, Automation, Python, Ruby, Ana...   \n",
       "4  accounting, finance, cash flow, financial plan...   \n",
       "\n",
       "                                           job_desig  \\\n",
       "0        Senior Exploit and Vulnerability Researcher   \n",
       "1                                           Head SCM   \n",
       "2  Deputy Manager - Talent Management & Leadershi...   \n",
       "3                 Associate Manager Data Engineering   \n",
       "4                            TS- GSA- Senior Analyst   \n",
       "\n",
       "                                     job_description               location  \\\n",
       "0  Exp: Minimum 5 years;Good understanding of IOC...  Delhi NCR(Vikas Puri)   \n",
       "1  He should have handled a team of atleast 5-6 d...                Sonepat   \n",
       "2  Must be an effective communicator (written & s...              Delhi NCR   \n",
       "3  7  -  10 years of overall experience in data e...              Bengaluru   \n",
       "4  Chartered Accountancy degree or MBA in Finance...                Gurgaon   \n",
       "\n",
       "    job_type experience  salary  \\\n",
       "0        NaN    5-7 yrs   6to10   \n",
       "1        NaN  10-17 yrs  10to15   \n",
       "2  Analytics    5-9 yrs  15to25   \n",
       "3  Analytics   7-10 yrs  10to15   \n",
       "4        NaN    1-3 yrs    3to6   \n",
       "\n",
       "                                      skills_cleaned  \\\n",
       "0  team skills communication skills analytical sk...   \n",
       "1  ppc logistics inventory management supply chai...   \n",
       "2  hr analytics employee engagement training succ...   \n",
       "3  sql javascript automation python ruby analytic...   \n",
       "4  accounting finance cash flow financial plannin...   \n",
       "\n",
       "                                       desig_cleaned  \\\n",
       "0        senior exploit and vulnerability researcher   \n",
       "1                                           head scm   \n",
       "2  deputy manager talent management leadership de...   \n",
       "3                 associate manager data engineering   \n",
       "4                              ts gsa senior analyst   \n",
       "\n",
       "                                    job_desc_cleaned            loc_cleaned  \\\n",
       "0  exp minimum years good understanding of ioc ru...  delhi ncr vikas puri    \n",
       "1  he should have handled a team of atleast direc...                sonepat   \n",
       "2  must be an effective communicator written spok...              delhi ncr   \n",
       "3   years of overall experience in data engineeri...              bengaluru   \n",
       "4  chartered accountancy degree or mba in finance...                gurgaon   \n",
       "\n",
       "  job_type_cleaned  min_exp  max_exp  \n",
       "0   missingjobtype        5        7  \n",
       "1   missingjobtype       10       17  \n",
       "2        analytics        5        9  \n",
       "3        analytics        7       10  \n",
       "4   missingjobtype        1        3  "
      ]
     },
     "execution_count": 26,
     "metadata": {},
     "output_type": "execute_result"
    }
   ],
   "source": [
    "df_train.head()"
   ]
  },
  {
   "cell_type": "code",
   "execution_count": 28,
   "metadata": {},
   "outputs": [],
   "source": [
    "\n",
    "df_train['merged'] = (df_train['desig_cleaned'] + ' ' + df_train['job_desc_cleaned'] + ' ' + df_train['skills_cleaned']\n",
    "                      + ' ' + df_train['job_type_cleaned'])\n",
    "\n",
    "df_test['merged'] = (df_test['desig_cleaned'] + ' ' + df_test['job_desc_cleaned'] + ' ' + df_test['skills_cleaned']\n",
    "                     + ' ' + df_test['job_type_cleaned'])"
   ]
  },
  {
   "cell_type": "code",
   "execution_count": 29,
   "metadata": {},
   "outputs": [],
   "source": [
    "\n",
    "from sklearn.preprocessing import LabelEncoder\n",
    "le = LabelEncoder()\n",
    "df_train['salary'] = le.fit_transform(df_train['salary'])"
   ]
  },
  {
   "cell_type": "code",
   "execution_count": 30,
   "metadata": {},
   "outputs": [],
   "source": [
    "from sklearn.model_selection import train_test_split\n",
    "\n",
    "X_train, X_cv, y_train, y_cv = train_test_split(\n",
    "    df_train[['merged', 'loc_cleaned', 'min_exp', 'max_exp']], \n",
    "    df_train['salary'], test_size=0.20, \n",
    "    stratify=df_train['salary'], random_state=75)\n"
   ]
  },
  {
   "cell_type": "code",
   "execution_count": 31,
   "metadata": {},
   "outputs": [
    {
     "name": "stdout",
     "output_type": "stream",
     "text": [
      "No. of sample texts X_train:  15840\n",
      "No. of sample texts X_cv   :  3961\n"
     ]
    }
   ],
   "source": [
    "\n",
    "print('No. of sample texts X_train: ', len(X_train))\n",
    "print('No. of sample texts X_cv   : ', len(X_cv))"
   ]
  },
  {
   "cell_type": "code",
   "execution_count": 32,
   "metadata": {},
   "outputs": [],
   "source": [
    "\n",
    "X_train_merged = X_train['merged']\n",
    "X_train_loc = X_train['loc_cleaned']\n",
    "\n",
    "X_cv_merged = X_cv['merged']\n",
    "X_cv_loc = X_cv['loc_cleaned']"
   ]
  },
  {
   "cell_type": "code",
   "execution_count": 33,
   "metadata": {},
   "outputs": [],
   "source": [
    "from sklearn.feature_extraction.text import TfidfVectorizer, CountVectorizer"
   ]
  },
  {
   "cell_type": "code",
   "execution_count": 34,
   "metadata": {},
   "outputs": [],
   "source": [
    "\n",
    "tf1 = TfidfVectorizer(min_df=3, token_pattern=r'\\w{3,}', ngram_range=(1,3), max_df=0.9)\n",
    "tf2 = TfidfVectorizer(min_df=2, token_pattern=r'\\w{3,}')\n",
    "\n",
    "X_train_merged = tf1.fit_transform(X_train_merged)\n",
    "X_train_loc = tf2.fit_transform(X_train_loc)\n",
    "\n",
    "X_cv_merged = tf1.transform(X_cv_merged)\n",
    "X_cv_loc = tf2.transform(X_cv_loc)"
   ]
  },
  {
   "cell_type": "code",
   "execution_count": 35,
   "metadata": {},
   "outputs": [],
   "source": [
    "from scipy import sparse\n",
    "from sklearn.preprocessing import StandardScaler\n",
    "\n",
    "sc1 = StandardScaler()\n",
    "X_train_MinExp = sc1.fit_transform(np.array(X_train['min_exp']).reshape(-1,1))\n",
    "X_cv_MinExp = sc1.transform(np.array(X_cv['min_exp']).reshape(-1,1))\n",
    "X_train_MinExp = sparse.csr_matrix(X_train_MinExp)\n",
    "X_cv_MinExp = sparse.csr_matrix(X_cv_MinExp)\n",
    "\n",
    "sc2 = StandardScaler()\n",
    "X_train_MaxExp = sc2.fit_transform(np.array(X_train['max_exp']).reshape(-1,1))\n",
    "X_cv_MaxExp = sc2.transform(np.array(X_cv['max_exp']).reshape(-1,1))\n",
    "X_train_MaxExp = sparse.csr_matrix(X_train_MaxExp)\n",
    "X_cv_MaxExp = sparse.csr_matrix(X_cv_MaxExp)"
   ]
  },
  {
   "cell_type": "code",
   "execution_count": 36,
   "metadata": {},
   "outputs": [],
   "source": [
    "merged_train = hstack((X_train_merged, X_train_loc, X_train_MinExp, X_train_MaxExp))\n",
    "merged_cv  = hstack((X_cv_merged, X_cv_loc, X_cv_MinExp, X_cv_MaxExp))"
   ]
  },
  {
   "cell_type": "code",
   "execution_count": 37,
   "metadata": {},
   "outputs": [
    {
     "data": {
      "text/plain": [
       "((15840, 52320), (3961, 52320))"
      ]
     },
     "execution_count": 37,
     "metadata": {},
     "output_type": "execute_result"
    }
   ],
   "source": [
    "merged_train.shape, merged_cv.shape"
   ]
  },
  {
   "cell_type": "code",
   "execution_count": 38,
   "metadata": {},
   "outputs": [],
   "source": [
    "from sklearn.metrics import accuracy_score, classification_report, confusion_matrix"
   ]
  },
  {
   "cell_type": "code",
   "execution_count": 40,
   "metadata": {},
   "outputs": [
    {
     "name": "stdout",
     "output_type": "stream",
     "text": [
      "Collecting lightgbm\n",
      "  Downloading lightgbm-2.3.1-py2.py3-none-win_amd64.whl (544 kB)\n",
      "Requirement already satisfied: scikit-learn in c:\\python\\lib\\site-packages (from lightgbm) (0.23.1)\n",
      "Requirement already satisfied: scipy in c:\\users\\nana-khushi\\appdata\\roaming\\python\\python37\\site-packages (from lightgbm) (1.4.1)\n",
      "Requirement already satisfied: numpy in c:\\python\\lib\\site-packages (from lightgbm) (1.18.4)\n",
      "Requirement already satisfied: joblib>=0.11 in c:\\python\\lib\\site-packages (from scikit-learn->lightgbm) (0.15.1)\n",
      "Requirement already satisfied: threadpoolctl>=2.0.0 in c:\\python\\lib\\site-packages (from scikit-learn->lightgbm) (2.1.0)\n",
      "Installing collected packages: lightgbm\n",
      "Successfully installed lightgbm-2.3.1\n"
     ]
    }
   ],
   "source": [
    "!pip install lightgbm"
   ]
  },
  {
   "cell_type": "code",
   "execution_count": 41,
   "metadata": {},
   "outputs": [],
   "source": [
    "import lightgbm as lgb\n",
    "train_data = lgb.Dataset(merged_train, label=y_train)\n",
    "test_data = lgb.Dataset(merged_cv, label=y_cv)"
   ]
  },
  {
   "cell_type": "code",
   "execution_count": 42,
   "metadata": {},
   "outputs": [],
   "source": [
    "param = {'objective': 'multiclass',\n",
    "         'num_iterations': 80,\n",
    "         'learning_rate': 0.04,  \n",
    "         'num_leaves': 23,\n",
    "         'max_depth': 7, \n",
    "         'min_data_in_leaf': 28, \n",
    "         'max_bin': 10, \n",
    "         'min_data_in_bin': 3,   \n",
    "         'num_class': 6,\n",
    "         'metric': 'multi_logloss'\n",
    "         }"
   ]
  },
  {
   "cell_type": "code",
   "execution_count": 43,
   "metadata": {},
   "outputs": [
    {
     "name": "stdout",
     "output_type": "stream",
     "text": [
      "[1]\tvalid_0's multi_logloss: 1.72184\n",
      "[2]\tvalid_0's multi_logloss: 1.69929\n",
      "[3]\tvalid_0's multi_logloss: 1.67832\n",
      "[4]\tvalid_0's multi_logloss: 1.6593\n",
      "[5]\tvalid_0's multi_logloss: 1.64141\n",
      "[6]\tvalid_0's multi_logloss: 1.6247\n",
      "[7]\tvalid_0's multi_logloss: 1.60886\n",
      "[8]\tvalid_0's multi_logloss: 1.59421\n",
      "[9]\tvalid_0's multi_logloss: 1.58002\n",
      "[10]\tvalid_0's multi_logloss: 1.56688\n",
      "[11]\tvalid_0's multi_logloss: 1.55428\n",
      "[12]\tvalid_0's multi_logloss: 1.54221\n",
      "[13]\tvalid_0's multi_logloss: 1.53094\n",
      "[14]\tvalid_0's multi_logloss: 1.51994\n",
      "[15]\tvalid_0's multi_logloss: 1.50985\n",
      "[16]\tvalid_0's multi_logloss: 1.49992\n",
      "[17]\tvalid_0's multi_logloss: 1.49045\n",
      "[18]\tvalid_0's multi_logloss: 1.48158\n",
      "[19]\tvalid_0's multi_logloss: 1.47276\n",
      "[20]\tvalid_0's multi_logloss: 1.4645\n",
      "[21]\tvalid_0's multi_logloss: 1.45651\n",
      "[22]\tvalid_0's multi_logloss: 1.44898\n",
      "[23]\tvalid_0's multi_logloss: 1.44183\n",
      "[24]\tvalid_0's multi_logloss: 1.43485\n",
      "[25]\tvalid_0's multi_logloss: 1.42782\n",
      "[26]\tvalid_0's multi_logloss: 1.42127\n",
      "[27]\tvalid_0's multi_logloss: 1.41492\n",
      "[28]\tvalid_0's multi_logloss: 1.40885\n",
      "[29]\tvalid_0's multi_logloss: 1.40303\n",
      "[30]\tvalid_0's multi_logloss: 1.39768\n",
      "[31]\tvalid_0's multi_logloss: 1.39232\n",
      "[32]\tvalid_0's multi_logloss: 1.38718\n",
      "[33]\tvalid_0's multi_logloss: 1.3822\n",
      "[34]\tvalid_0's multi_logloss: 1.37742\n",
      "[35]\tvalid_0's multi_logloss: 1.37269\n",
      "[36]\tvalid_0's multi_logloss: 1.36806\n",
      "[37]\tvalid_0's multi_logloss: 1.36376\n",
      "[38]\tvalid_0's multi_logloss: 1.35928\n",
      "[39]\tvalid_0's multi_logloss: 1.35522\n",
      "[40]\tvalid_0's multi_logloss: 1.35137\n",
      "[41]\tvalid_0's multi_logloss: 1.34747\n",
      "[42]\tvalid_0's multi_logloss: 1.34364\n",
      "[43]\tvalid_0's multi_logloss: 1.34009\n",
      "[44]\tvalid_0's multi_logloss: 1.33673\n",
      "[45]\tvalid_0's multi_logloss: 1.33354\n",
      "[46]\tvalid_0's multi_logloss: 1.33048\n",
      "[47]\tvalid_0's multi_logloss: 1.32741\n",
      "[48]\tvalid_0's multi_logloss: 1.32441\n",
      "[49]\tvalid_0's multi_logloss: 1.32165\n",
      "[50]\tvalid_0's multi_logloss: 1.31868\n",
      "[51]\tvalid_0's multi_logloss: 1.31585\n",
      "[52]\tvalid_0's multi_logloss: 1.31326\n",
      "[53]\tvalid_0's multi_logloss: 1.31081\n",
      "[54]\tvalid_0's multi_logloss: 1.30827\n",
      "[55]\tvalid_0's multi_logloss: 1.30594\n",
      "[56]\tvalid_0's multi_logloss: 1.30348\n",
      "[57]\tvalid_0's multi_logloss: 1.30126\n",
      "[58]\tvalid_0's multi_logloss: 1.29919\n",
      "[59]\tvalid_0's multi_logloss: 1.29715\n",
      "[60]\tvalid_0's multi_logloss: 1.29503\n",
      "[61]\tvalid_0's multi_logloss: 1.29291\n",
      "[62]\tvalid_0's multi_logloss: 1.29115\n",
      "[63]\tvalid_0's multi_logloss: 1.28902\n",
      "[64]\tvalid_0's multi_logloss: 1.28714\n",
      "[65]\tvalid_0's multi_logloss: 1.28533\n",
      "[66]\tvalid_0's multi_logloss: 1.28357\n",
      "[67]\tvalid_0's multi_logloss: 1.28189\n",
      "[68]\tvalid_0's multi_logloss: 1.28032\n",
      "[69]\tvalid_0's multi_logloss: 1.27877\n",
      "[70]\tvalid_0's multi_logloss: 1.27712\n",
      "[71]\tvalid_0's multi_logloss: 1.27551\n",
      "[72]\tvalid_0's multi_logloss: 1.27406\n",
      "[73]\tvalid_0's multi_logloss: 1.27275\n",
      "[74]\tvalid_0's multi_logloss: 1.27137\n",
      "[75]\tvalid_0's multi_logloss: 1.26996\n",
      "[76]\tvalid_0's multi_logloss: 1.26855\n",
      "[77]\tvalid_0's multi_logloss: 1.2672\n",
      "[78]\tvalid_0's multi_logloss: 1.26594\n",
      "[79]\tvalid_0's multi_logloss: 1.26451\n",
      "[80]\tvalid_0's multi_logloss: 1.26332\n"
     ]
    }
   ],
   "source": [
    "lgbm = lgb.train(params=param,\n",
    "                 train_set=train_data,\n",
    "                 num_boost_round=100,\n",
    "                 valid_sets=[test_data])\n",
    "\n",
    "y_pred_class = lgbm.predict(merged_cv)"
   ]
  },
  {
   "cell_type": "code",
   "execution_count": 44,
   "metadata": {},
   "outputs": [
    {
     "name": "stdout",
     "output_type": "stream",
     "text": [
      "accuracy: 0.47689977278465034\n"
     ]
    }
   ],
   "source": [
    "predictions = []\n",
    "for x in y_pred_class:\n",
    "    predictions.append(np.argmax(x))\n",
    "\n",
    "print('accuracy:', accuracy_score(y_cv, predictions))"
   ]
  },
  {
   "cell_type": "code",
   "execution_count": 45,
   "metadata": {},
   "outputs": [],
   "source": [
    "\n",
    "X_train_merged = df_train['merged']\n",
    "X_train_loc = df_train['loc_cleaned']\n",
    "\n",
    "X_test_merged = df_test['merged']\n",
    "X_test_loc = df_test['loc_cleaned']\n",
    "\n",
    "y_train = df_train['salary']"
   ]
  },
  {
   "cell_type": "code",
   "execution_count": 46,
   "metadata": {},
   "outputs": [],
   "source": [
    "tf1 = TfidfVectorizer(min_df=3, token_pattern=r'\\w{3,}', ngram_range=(1,3))\n",
    "tf2 = TfidfVectorizer(min_df=2, token_pattern=r'\\w{3,}')\n",
    "\n",
    "X_train_merged = tf1.fit_transform(X_train_merged)\n",
    "X_train_loc = tf2.fit_transform(X_train_loc)\n",
    "\n",
    "X_test_merged = tf1.transform(X_test_merged)\n",
    "X_test_loc = tf2.transform(X_test_loc)"
   ]
  },
  {
   "cell_type": "code",
   "execution_count": 47,
   "metadata": {},
   "outputs": [],
   "source": [
    "from scipy import sparse\n",
    "from sklearn.preprocessing import StandardScaler\n",
    "\n",
    "sc1 = StandardScaler()\n",
    "X_train_MinExp = sc1.fit_transform(np.array(df_train['min_exp']).reshape(-1,1))\n",
    "X_test_MinExp = sc1.transform(np.array(df_test['min_exp']).reshape(-1,1))\n",
    "X_train_MinExp = sparse.csr_matrix(X_train_MinExp)\n",
    "X_test_MinExp = sparse.csr_matrix(X_test_MinExp)\n",
    "\n",
    "sc2 = StandardScaler()\n",
    "X_train_MaxExp = sc2.fit_transform(np.array(df_train['max_exp']).reshape(-1,1))\n",
    "X_test_MaxExp = sc2.transform(np.array(df_test['max_exp']).reshape(-1,1))\n",
    "X_train_MaxExp = sparse.csr_matrix(X_train_MaxExp)\n",
    "X_test_MaxExp = sparse.csr_matrix(X_test_MaxExp)"
   ]
  },
  {
   "cell_type": "code",
   "execution_count": 48,
   "metadata": {},
   "outputs": [],
   "source": [
    "\n",
    "merged_train = hstack((X_train_merged, X_train_loc, X_train_MinExp, X_train_MaxExp))\n",
    "merged_test  = hstack((X_test_merged, X_test_loc, X_test_MinExp, X_test_MaxExp))"
   ]
  },
  {
   "cell_type": "code",
   "execution_count": 49,
   "metadata": {},
   "outputs": [],
   "source": [
    "import lightgbm as lgb\n",
    "train_data = lgb.Dataset(merged_train, label=y_train)\n",
    "\n",
    "param = {'objective': 'multiclass',\n",
    "         'num_iterations': 80,\n",
    "         'learning_rate': 0.04, \n",
    "         'num_leaves': 23,\n",
    "         'max_depth': 7, \n",
    "         'min_data_in_leaf': 28, \n",
    "         'max_bin': 10, \n",
    "         'min_data_in_bin': 3,   \n",
    "         'num_class': 6,\n",
    "         'metric': 'multi_logloss'\n",
    "         }\n",
    "\n",
    "lgbm = lgb.train(params=param, \n",
    "                 train_set=train_data)\n",
    "\n",
    "predictions = lgbm.predict(merged_test)\n",
    "\n",
    "y_pred_class = []\n",
    "for x in predictions:\n",
    "    y_pred_class.append(np.argmax(x))\n",
    "\n",
    "y_pred_class = le.inverse_transform(y_pred_class)"
   ]
  },
  {
   "cell_type": "code",
   "execution_count": 50,
   "metadata": {},
   "outputs": [],
   "source": [
    "df_sub = pd.DataFrame(data=y_pred_class, columns=['salary'])"
   ]
  },
  {
   "cell_type": "code",
   "execution_count": 52,
   "metadata": {},
   "outputs": [
    {
     "name": "stdout",
     "output_type": "stream",
     "text": [
      "Collecting XlsxWriter\n",
      "  Downloading XlsxWriter-1.2.9-py2.py3-none-any.whl (141 kB)\n",
      "Installing collected packages: XlsxWriter\n",
      "Successfully installed XlsxWriter-1.2.9\n"
     ]
    }
   ],
   "source": [
    "!pip install XlsxWriter"
   ]
  },
  {
   "cell_type": "code",
   "execution_count": 53,
   "metadata": {},
   "outputs": [],
   "source": [
    "writer = pd.ExcelWriter('output.xlsx', engine='xlsxwriter')\n",
    "df_sub.to_excel(writer,sheet_name='Sheet1', index=False)\n",
    "writer.save()"
   ]
  },
  {
   "cell_type": "code",
   "execution_count": null,
   "metadata": {},
   "outputs": [],
   "source": []
  }
 ],
 "metadata": {
  "kernelspec": {
   "display_name": "Python 3.7.6 64-bit",
   "language": "python",
   "name": "python37664bitd7bc1df413394f7192e719df23a569cf"
  },
  "language_info": {
   "codemirror_mode": {
    "name": "ipython",
    "version": 3
   },
   "file_extension": ".py",
   "mimetype": "text/x-python",
   "name": "python",
   "nbconvert_exporter": "python",
   "pygments_lexer": "ipython3",
   "version": "3.7.6"
  }
 },
 "nbformat": 4,
 "nbformat_minor": 4
}
